{
 "cells": [
  {
   "cell_type": "markdown",
   "metadata": {},
   "source": [
    "### Extracción y Carga Raw Data Censo Poblacion\n",
    "#### Diciembre 2020\n",
    "##### Rodrigo Riveros"
   ]
  },
  {
   "cell_type": "markdown",
   "metadata": {},
   "source": [
    "Utilizamos entorno con\n",
    "- Python 3\n",
    "- Pandas\n",
    "- xlrd\n",
    "- feather (pip install feather-format)\n",
    "\n",
    "\n",
    "http://www.censo2017.cl/descargue-aqui-resultados-de-comunas/"
   ]
  },
  {
   "cell_type": "code",
   "execution_count": 1,
   "metadata": {},
   "outputs": [],
   "source": [
    "# Importamos librerias de trabajo\n",
    "import pandas as pd\n",
    "import feather"
   ]
  },
  {
   "cell_type": "code",
   "execution_count": 2,
   "metadata": {},
   "outputs": [],
   "source": [
    "#definimos directorio de rawdata\n",
    "rawdata = '../data/raw/'\n",
    "\n",
    "# #definimos directorio de data intermedia\n",
    "interimdata = '../data/interim/'\n",
    "\n",
    "# #definimos directorio de data externa\n",
    "external = '../data/external/'\n"
   ]
  },
  {
   "cell_type": "code",
   "execution_count": 3,
   "metadata": {},
   "outputs": [],
   "source": [
    "# Cargamos rawdata de excel Resumen\n",
    "xlsx = pd.ExcelFile(rawdata + 'Cantidad-de-Personas-por-Sexo-y-Edad.xlsx')"
   ]
  },
  {
   "cell_type": "code",
   "execution_count": 4,
   "metadata": {},
   "outputs": [],
   "source": [
    "# Transformamos hojas del excel en df\n",
    "# nos saltamos la primera fila y cargamos solo las columnas desde la B a la L\n",
    "#rawcenso = pd.read_excel(xlsx, 'COMUNAS', skiprows=[0], usecols=\"B:L\")\n",
    "rawcenso = pd.read_excel(xlsx, 'COMUNAS', skiprows=range(0,1), usecols=\"B:L\",skipfooter=1)\n"
   ]
  },
  {
   "cell_type": "code",
   "execution_count": 5,
   "metadata": {},
   "outputs": [
    {
     "name": "stdout",
     "output_type": "stream",
     "text": [
      "<class 'pandas.core.frame.DataFrame'>\n",
      "RangeIndex: 7634 entries, 0 to 7633\n",
      "Data columns (total 11 columns):\n",
      " #   Column            Non-Null Count  Dtype \n",
      "---  ------            --------------  ----- \n",
      " 0   ORDEN             7634 non-null   int64 \n",
      " 1   NOMBRE REGIÓN     7634 non-null   object\n",
      " 2   Código Región     7634 non-null   object\n",
      " 3   NOMBRE PROVINCIA  7634 non-null   object\n",
      " 4   Código Provincia  7634 non-null   object\n",
      " 5   NOMBRE COMUNA     7634 non-null   object\n",
      " 6   Código Comuna     7634 non-null   object\n",
      " 7   Edad              7634 non-null   object\n",
      " 8   Hombres           7634 non-null   int64 \n",
      " 9   Mujeres           7634 non-null   int64 \n",
      " 10  TOTAL             7634 non-null   int64 \n",
      "dtypes: int64(4), object(7)\n",
      "memory usage: 656.2+ KB\n"
     ]
    }
   ],
   "source": [
    "rawcenso.info()"
   ]
  },
  {
   "cell_type": "code",
   "execution_count": 6,
   "metadata": {},
   "outputs": [],
   "source": [
    "# arreglamos los espacios en los nombres de columnas\n",
    "rawcenso.columns = [c.replace(' ', '_') for c in rawcenso.columns]"
   ]
  },
  {
   "cell_type": "code",
   "execution_count": 7,
   "metadata": {},
   "outputs": [
    {
     "data": {
      "text/html": [
       "<div>\n",
       "<style scoped>\n",
       "    .dataframe tbody tr th:only-of-type {\n",
       "        vertical-align: middle;\n",
       "    }\n",
       "\n",
       "    .dataframe tbody tr th {\n",
       "        vertical-align: top;\n",
       "    }\n",
       "\n",
       "    .dataframe thead th {\n",
       "        text-align: right;\n",
       "    }\n",
       "</style>\n",
       "<table border=\"1\" class=\"dataframe\">\n",
       "  <thead>\n",
       "    <tr style=\"text-align: right;\">\n",
       "      <th></th>\n",
       "      <th>ORDEN</th>\n",
       "      <th>NOMBRE_REGIÓN</th>\n",
       "      <th>Código_Región</th>\n",
       "      <th>NOMBRE_PROVINCIA</th>\n",
       "      <th>Código_Provincia</th>\n",
       "      <th>NOMBRE_COMUNA</th>\n",
       "      <th>Código_Comuna</th>\n",
       "      <th>Edad</th>\n",
       "      <th>Hombres</th>\n",
       "      <th>Mujeres</th>\n",
       "      <th>TOTAL</th>\n",
       "    </tr>\n",
       "  </thead>\n",
       "  <tbody>\n",
       "    <tr>\n",
       "      <th>0</th>\n",
       "      <td>0</td>\n",
       "      <td>PAÍS</td>\n",
       "      <td>PAÍS</td>\n",
       "      <td>PAÍS</td>\n",
       "      <td>PAÍS</td>\n",
       "      <td>PAÍS</td>\n",
       "      <td>PAÍS</td>\n",
       "      <td>Total País</td>\n",
       "      <td>8601989</td>\n",
       "      <td>8972014</td>\n",
       "      <td>17574003</td>\n",
       "    </tr>\n",
       "    <tr>\n",
       "      <th>1</th>\n",
       "      <td>1</td>\n",
       "      <td>PAÍS</td>\n",
       "      <td>PAÍS</td>\n",
       "      <td>PAÍS</td>\n",
       "      <td>PAÍS</td>\n",
       "      <td>PAÍS</td>\n",
       "      <td>PAÍS</td>\n",
       "      <td>0 a 4</td>\n",
       "      <td>594059</td>\n",
       "      <td>572087</td>\n",
       "      <td>1166146</td>\n",
       "    </tr>\n",
       "    <tr>\n",
       "      <th>2</th>\n",
       "      <td>2</td>\n",
       "      <td>PAÍS</td>\n",
       "      <td>PAÍS</td>\n",
       "      <td>PAÍS</td>\n",
       "      <td>PAÍS</td>\n",
       "      <td>PAÍS</td>\n",
       "      <td>PAÍS</td>\n",
       "      <td>5 a 9</td>\n",
       "      <td>618121</td>\n",
       "      <td>592068</td>\n",
       "      <td>1210189</td>\n",
       "    </tr>\n",
       "    <tr>\n",
       "      <th>3</th>\n",
       "      <td>3</td>\n",
       "      <td>PAÍS</td>\n",
       "      <td>PAÍS</td>\n",
       "      <td>PAÍS</td>\n",
       "      <td>PAÍS</td>\n",
       "      <td>PAÍS</td>\n",
       "      <td>PAÍS</td>\n",
       "      <td>10 a 14</td>\n",
       "      <td>585855</td>\n",
       "      <td>561560</td>\n",
       "      <td>1147415</td>\n",
       "    </tr>\n",
       "    <tr>\n",
       "      <th>4</th>\n",
       "      <td>4</td>\n",
       "      <td>PAÍS</td>\n",
       "      <td>PAÍS</td>\n",
       "      <td>PAÍS</td>\n",
       "      <td>PAÍS</td>\n",
       "      <td>PAÍS</td>\n",
       "      <td>PAÍS</td>\n",
       "      <td>15 a 19</td>\n",
       "      <td>636064</td>\n",
       "      <td>608633</td>\n",
       "      <td>1244697</td>\n",
       "    </tr>\n",
       "  </tbody>\n",
       "</table>\n",
       "</div>"
      ],
      "text/plain": [
       "   ORDEN NOMBRE_REGIÓN Código_Región NOMBRE_PROVINCIA Código_Provincia  \\\n",
       "0      0          PAÍS          PAÍS             PAÍS             PAÍS   \n",
       "1      1          PAÍS          PAÍS             PAÍS             PAÍS   \n",
       "2      2          PAÍS          PAÍS             PAÍS             PAÍS   \n",
       "3      3          PAÍS          PAÍS             PAÍS             PAÍS   \n",
       "4      4          PAÍS          PAÍS             PAÍS             PAÍS   \n",
       "\n",
       "  NOMBRE_COMUNA Código_Comuna        Edad  Hombres  Mujeres     TOTAL  \n",
       "0          PAÍS          PAÍS  Total País  8601989  8972014  17574003  \n",
       "1          PAÍS          PAÍS       0 a 4   594059   572087   1166146  \n",
       "2          PAÍS          PAÍS       5 a 9   618121   592068   1210189  \n",
       "3          PAÍS          PAÍS     10 a 14   585855   561560   1147415  \n",
       "4          PAÍS          PAÍS     15 a 19   636064   608633   1244697  "
      ]
     },
     "execution_count": 7,
     "metadata": {},
     "output_type": "execute_result"
    }
   ],
   "source": [
    "rawcenso.head(5)"
   ]
  },
  {
   "cell_type": "code",
   "execution_count": 8,
   "metadata": {},
   "outputs": [
    {
     "data": {
      "text/html": [
       "<div>\n",
       "<style scoped>\n",
       "    .dataframe tbody tr th:only-of-type {\n",
       "        vertical-align: middle;\n",
       "    }\n",
       "\n",
       "    .dataframe tbody tr th {\n",
       "        vertical-align: top;\n",
       "    }\n",
       "\n",
       "    .dataframe thead th {\n",
       "        text-align: right;\n",
       "    }\n",
       "</style>\n",
       "<table border=\"1\" class=\"dataframe\">\n",
       "  <thead>\n",
       "    <tr style=\"text-align: right;\">\n",
       "      <th></th>\n",
       "      <th>ORDEN</th>\n",
       "      <th>NOMBRE_REGIÓN</th>\n",
       "      <th>Código_Región</th>\n",
       "      <th>NOMBRE_PROVINCIA</th>\n",
       "      <th>Código_Provincia</th>\n",
       "      <th>NOMBRE_COMUNA</th>\n",
       "      <th>Código_Comuna</th>\n",
       "      <th>Edad</th>\n",
       "      <th>Hombres</th>\n",
       "      <th>Mujeres</th>\n",
       "      <th>TOTAL</th>\n",
       "    </tr>\n",
       "  </thead>\n",
       "  <tbody>\n",
       "    <tr>\n",
       "      <th>7629</th>\n",
       "      <td>7629</td>\n",
       "      <td>MAGALLANES Y DE LA ANTÁRTICA CHILENA</td>\n",
       "      <td>12</td>\n",
       "      <td>ÚLTIMA ESPERANZA</td>\n",
       "      <td>124</td>\n",
       "      <td>TORRES DEL PAINE</td>\n",
       "      <td>12402</td>\n",
       "      <td>80 a 84</td>\n",
       "      <td>2</td>\n",
       "      <td>2</td>\n",
       "      <td>4</td>\n",
       "    </tr>\n",
       "    <tr>\n",
       "      <th>7630</th>\n",
       "      <td>7630</td>\n",
       "      <td>MAGALLANES Y DE LA ANTÁRTICA CHILENA</td>\n",
       "      <td>12</td>\n",
       "      <td>ÚLTIMA ESPERANZA</td>\n",
       "      <td>124</td>\n",
       "      <td>TORRES DEL PAINE</td>\n",
       "      <td>12402</td>\n",
       "      <td>85 a 89</td>\n",
       "      <td>0</td>\n",
       "      <td>1</td>\n",
       "      <td>1</td>\n",
       "    </tr>\n",
       "    <tr>\n",
       "      <th>7631</th>\n",
       "      <td>7631</td>\n",
       "      <td>MAGALLANES Y DE LA ANTÁRTICA CHILENA</td>\n",
       "      <td>12</td>\n",
       "      <td>ÚLTIMA ESPERANZA</td>\n",
       "      <td>124</td>\n",
       "      <td>TORRES DEL PAINE</td>\n",
       "      <td>12402</td>\n",
       "      <td>90 a 94</td>\n",
       "      <td>0</td>\n",
       "      <td>0</td>\n",
       "      <td>0</td>\n",
       "    </tr>\n",
       "    <tr>\n",
       "      <th>7632</th>\n",
       "      <td>7632</td>\n",
       "      <td>MAGALLANES Y DE LA ANTÁRTICA CHILENA</td>\n",
       "      <td>12</td>\n",
       "      <td>ÚLTIMA ESPERANZA</td>\n",
       "      <td>124</td>\n",
       "      <td>TORRES DEL PAINE</td>\n",
       "      <td>12402</td>\n",
       "      <td>95 a 99</td>\n",
       "      <td>0</td>\n",
       "      <td>0</td>\n",
       "      <td>0</td>\n",
       "    </tr>\n",
       "    <tr>\n",
       "      <th>7633</th>\n",
       "      <td>7633</td>\n",
       "      <td>MAGALLANES Y DE LA ANTÁRTICA CHILENA</td>\n",
       "      <td>12</td>\n",
       "      <td>ÚLTIMA ESPERANZA</td>\n",
       "      <td>124</td>\n",
       "      <td>TORRES DEL PAINE</td>\n",
       "      <td>12402</td>\n",
       "      <td>100 o más</td>\n",
       "      <td>0</td>\n",
       "      <td>0</td>\n",
       "      <td>0</td>\n",
       "    </tr>\n",
       "  </tbody>\n",
       "</table>\n",
       "</div>"
      ],
      "text/plain": [
       "      ORDEN                         NOMBRE_REGIÓN Código_Región  \\\n",
       "7629   7629  MAGALLANES Y DE LA ANTÁRTICA CHILENA            12   \n",
       "7630   7630  MAGALLANES Y DE LA ANTÁRTICA CHILENA            12   \n",
       "7631   7631  MAGALLANES Y DE LA ANTÁRTICA CHILENA            12   \n",
       "7632   7632  MAGALLANES Y DE LA ANTÁRTICA CHILENA            12   \n",
       "7633   7633  MAGALLANES Y DE LA ANTÁRTICA CHILENA            12   \n",
       "\n",
       "      NOMBRE_PROVINCIA Código_Provincia     NOMBRE_COMUNA Código_Comuna  \\\n",
       "7629  ÚLTIMA ESPERANZA              124  TORRES DEL PAINE         12402   \n",
       "7630  ÚLTIMA ESPERANZA              124  TORRES DEL PAINE         12402   \n",
       "7631  ÚLTIMA ESPERANZA              124  TORRES DEL PAINE         12402   \n",
       "7632  ÚLTIMA ESPERANZA              124  TORRES DEL PAINE         12402   \n",
       "7633  ÚLTIMA ESPERANZA              124  TORRES DEL PAINE         12402   \n",
       "\n",
       "           Edad  Hombres  Mujeres  TOTAL  \n",
       "7629    80 a 84        2        2      4  \n",
       "7630    85 a 89        0        1      1  \n",
       "7631    90 a 94        0        0      0  \n",
       "7632    95 a 99        0        0      0  \n",
       "7633  100 o más        0        0      0  "
      ]
     },
     "execution_count": 8,
     "metadata": {},
     "output_type": "execute_result"
    }
   ],
   "source": [
    "rawcenso.tail(5)"
   ]
  },
  {
   "cell_type": "code",
   "execution_count": 9,
   "metadata": {},
   "outputs": [
    {
     "name": "stdout",
     "output_type": "stream",
     "text": [
      "Region:  ['PAÍS' 15 1 2 3 4 5 13 6 7 8 9 14 10 11 12] \n",
      "\n"
     ]
    }
   ],
   "source": [
    "# revisamos Region\n",
    "print('Region: ',rawcenso.Código_Región.unique(),'\\n')"
   ]
  },
  {
   "cell_type": "code",
   "execution_count": 10,
   "metadata": {},
   "outputs": [],
   "source": [
    "# eliminamos las filas agregadas de pais\n",
    "indices = rawcenso[rawcenso[\"Código_Región\"] == \"PAÍS\"].index\n",
    "rawcenso.drop(indices , inplace=True)"
   ]
  },
  {
   "cell_type": "code",
   "execution_count": 11,
   "metadata": {},
   "outputs": [
    {
     "name": "stdout",
     "output_type": "stream",
     "text": [
      "Edad:  ['Total Comunal' '0 a 4' '5 a 9' '10 a 14' '15 a 19' '20 a 24' '25 a 29'\n",
      " '30 a 34' '35 a 39' '40 a 44' '45 a 49' '50 a 54' '55 a 59' '60 a 64'\n",
      " '65 a 69' '70 a 74' '75 a 79' '80 a 84' '85 a 89' '90 a 94' '95 a 99'\n",
      " '100 o más'] \n",
      "\n"
     ]
    }
   ],
   "source": [
    "# revisamos Region\n",
    "print('Edad: ',rawcenso.Edad.unique(),'\\n')"
   ]
  },
  {
   "cell_type": "code",
   "execution_count": 12,
   "metadata": {},
   "outputs": [],
   "source": [
    "# solo dejamos los totales por comuna\n",
    "indices = rawcenso[rawcenso[\"Edad\"] != \"Total Comunal\"].index\n",
    "rawcenso.drop(indices , inplace=True)"
   ]
  },
  {
   "cell_type": "code",
   "execution_count": 13,
   "metadata": {},
   "outputs": [],
   "source": [
    "# reindexamos la tabla\n",
    "rawcenso.reset_index(drop=True, inplace=True)"
   ]
  },
  {
   "cell_type": "code",
   "execution_count": 14,
   "metadata": {},
   "outputs": [],
   "source": [
    "# Guardamos data intermedia en formato binario\n",
    "rawcenso.to_feather(interimdata + '100Censo.ftr')"
   ]
  },
  {
   "cell_type": "code",
   "execution_count": 15,
   "metadata": {},
   "outputs": [],
   "source": [
    "# Cargamos data desde binario\n",
    "rawcenso = pd.read_feather(interimdata + '100Censo.ftr', columns=None, use_threads=True);"
   ]
  },
  {
   "cell_type": "code",
   "execution_count": 16,
   "metadata": {},
   "outputs": [
    {
     "name": "stdout",
     "output_type": "stream",
     "text": [
      "<class 'pandas.core.frame.DataFrame'>\n",
      "RangeIndex: 346 entries, 0 to 345\n",
      "Data columns (total 11 columns):\n",
      " #   Column            Non-Null Count  Dtype \n",
      "---  ------            --------------  ----- \n",
      " 0   ORDEN             346 non-null    int64 \n",
      " 1   NOMBRE_REGIÓN     346 non-null    object\n",
      " 2   Código_Región     346 non-null    int64 \n",
      " 3   NOMBRE_PROVINCIA  346 non-null    object\n",
      " 4   Código_Provincia  346 non-null    int64 \n",
      " 5   NOMBRE_COMUNA     346 non-null    object\n",
      " 6   Código_Comuna     346 non-null    int64 \n",
      " 7   Edad              346 non-null    object\n",
      " 8   Hombres           346 non-null    int64 \n",
      " 9   Mujeres           346 non-null    int64 \n",
      " 10  TOTAL             346 non-null    int64 \n",
      "dtypes: int64(7), object(4)\n",
      "memory usage: 29.9+ KB\n"
     ]
    }
   ],
   "source": [
    "rawcenso.info()"
   ]
  },
  {
   "cell_type": "code",
   "execution_count": 17,
   "metadata": {},
   "outputs": [
    {
     "data": {
      "text/html": [
       "<div>\n",
       "<style scoped>\n",
       "    .dataframe tbody tr th:only-of-type {\n",
       "        vertical-align: middle;\n",
       "    }\n",
       "\n",
       "    .dataframe tbody tr th {\n",
       "        vertical-align: top;\n",
       "    }\n",
       "\n",
       "    .dataframe thead th {\n",
       "        text-align: right;\n",
       "    }\n",
       "</style>\n",
       "<table border=\"1\" class=\"dataframe\">\n",
       "  <thead>\n",
       "    <tr style=\"text-align: right;\">\n",
       "      <th></th>\n",
       "      <th>ORDEN</th>\n",
       "      <th>NOMBRE_REGIÓN</th>\n",
       "      <th>Código_Región</th>\n",
       "      <th>NOMBRE_PROVINCIA</th>\n",
       "      <th>Código_Provincia</th>\n",
       "      <th>NOMBRE_COMUNA</th>\n",
       "      <th>Código_Comuna</th>\n",
       "      <th>Edad</th>\n",
       "      <th>Hombres</th>\n",
       "      <th>Mujeres</th>\n",
       "      <th>TOTAL</th>\n",
       "    </tr>\n",
       "  </thead>\n",
       "  <tbody>\n",
       "    <tr>\n",
       "      <th>14</th>\n",
       "      <td>330</td>\n",
       "      <td>ANTOFAGASTA</td>\n",
       "      <td>2</td>\n",
       "      <td>ANTOFAGASTA</td>\n",
       "      <td>21</td>\n",
       "      <td>TALTAL</td>\n",
       "      <td>2104</td>\n",
       "      <td>Total Comunal</td>\n",
       "      <td>7481</td>\n",
       "      <td>5836</td>\n",
       "      <td>13317</td>\n",
       "    </tr>\n",
       "    <tr>\n",
       "      <th>89</th>\n",
       "      <td>1980</td>\n",
       "      <td>METROPOLITANA DE SANTIAGO</td>\n",
       "      <td>13</td>\n",
       "      <td>SANTIAGO</td>\n",
       "      <td>131</td>\n",
       "      <td>INDEPENDENCIA</td>\n",
       "      <td>13108</td>\n",
       "      <td>Total Comunal</td>\n",
       "      <td>49186</td>\n",
       "      <td>51095</td>\n",
       "      <td>100281</td>\n",
       "    </tr>\n",
       "    <tr>\n",
       "      <th>231</th>\n",
       "      <td>5104</td>\n",
       "      <td>BIOBÍO</td>\n",
       "      <td>8</td>\n",
       "      <td>ÑUBLE * desde sept. 2018 región ÑUBLE</td>\n",
       "      <td>84</td>\n",
       "      <td>BULNES *</td>\n",
       "      <td>8402</td>\n",
       "      <td>Total Comunal</td>\n",
       "      <td>10382</td>\n",
       "      <td>11111</td>\n",
       "      <td>21493</td>\n",
       "    </tr>\n",
       "  </tbody>\n",
       "</table>\n",
       "</div>"
      ],
      "text/plain": [
       "     ORDEN              NOMBRE_REGIÓN  Código_Región  \\\n",
       "14     330                ANTOFAGASTA              2   \n",
       "89    1980  METROPOLITANA DE SANTIAGO             13   \n",
       "231   5104                     BIOBÍO              8   \n",
       "\n",
       "                          NOMBRE_PROVINCIA  Código_Provincia  NOMBRE_COMUNA  \\\n",
       "14                             ANTOFAGASTA                21         TALTAL   \n",
       "89                                SANTIAGO               131  INDEPENDENCIA   \n",
       "231  ÑUBLE * desde sept. 2018 región ÑUBLE                84       BULNES *   \n",
       "\n",
       "     Código_Comuna           Edad  Hombres  Mujeres   TOTAL  \n",
       "14            2104  Total Comunal     7481     5836   13317  \n",
       "89           13108  Total Comunal    49186    51095  100281  \n",
       "231           8402  Total Comunal    10382    11111   21493  "
      ]
     },
     "execution_count": 17,
     "metadata": {},
     "output_type": "execute_result"
    }
   ],
   "source": [
    "rawcenso.sample(3)"
   ]
  },
  {
   "cell_type": "code",
   "execution_count": null,
   "metadata": {},
   "outputs": [],
   "source": []
  },
  {
   "cell_type": "code",
   "execution_count": null,
   "metadata": {},
   "outputs": [],
   "source": []
  }
 ],
 "metadata": {
  "kernelspec": {
   "display_name": "Python 3",
   "language": "python",
   "name": "python3"
  },
  "language_info": {
   "codemirror_mode": {
    "name": "ipython",
    "version": 3
   },
   "file_extension": ".py",
   "mimetype": "text/x-python",
   "name": "python",
   "nbconvert_exporter": "python",
   "pygments_lexer": "ipython3",
   "version": "3.8.5"
  }
 },
 "nbformat": 4,
 "nbformat_minor": 4
}
